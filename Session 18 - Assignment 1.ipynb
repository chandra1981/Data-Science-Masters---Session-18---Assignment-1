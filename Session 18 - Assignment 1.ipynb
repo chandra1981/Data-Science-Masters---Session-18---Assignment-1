{
 "cells": [
  {
   "cell_type": "code",
   "execution_count": null,
   "metadata": {},
   "outputs": [],
   "source": [
    "# Problem Statement 1:\n",
    "Is gender independent of education level? A random sample of 395 people were surveyed and each person was asked to report the highest education level they obtained. The data that resulted from the survey is summarized in the following table:\n",
    "       High School Bachelors Masters Ph.d. Total\n",
    "Female 60          54        46      41    201\n",
    "Male   40          44        53      57    194\n",
    "Total 100          98        99      98    395\n",
    "\n",
    "Question: Are gender and education level dependent at 5% level of significance? In other words, given the data collected above, is there a relationship between the gender of an individual and the level of education that they have obtained?"
   ]
  },
  {
   "cell_type": "code",
   "execution_count": null,
   "metadata": {},
   "outputs": [],
   "source": [
    "Chi-Square Test Statistic\n",
    "\n",
    "χ2=∑(O−E)^2/E, \n",
    "where O represents the observed frequency. \n",
    "E is the expected frequency under the null hypothesis, E=(row total*column total)/sample size\n",
    "\n",
    "We will compare the value of the test statistic to the critical value of χ2α with degree of freedom = (r - 1) (c - 1), and reject the null hypothesis if χ2>χ2α, where r is number of rows and c is number of columns \n",
    "\n",
    "The expected count of female with High School education = (201*100)/395 = 50.886\n",
    "The expected count for male with High School education = (194*100)/395 = 49.114\n",
    "Similarly, expected count of female & male is calculated for all educations (e.g. Bachelors, Masters, Ph.d.)\n",
    "\n",
    "So, the table of expected counts:\n",
    "\n",
    " \t    High School\t Bachelors\tMasters\tPh.d.\tTotal\n",
    "Female\t50.886\t     49.868\t    50.377\t49.868\t201\n",
    "Male\t49.114\t     48.132\t    48.623\t48.132\t194\n",
    "Total\t100\t         98\t        99\t    98\t    395\n",
    "\n",
    "And, χ2 = ∑(O−E)^2/E = (60−50.886)^2/50.886+⋯+(57−48.132)^2/48.132 = 8.006\n",
    "     degree of freedom = (r-1)(c-1) = (2-1)(4-1) = 3\n",
    "\n",
    "The critical value of χ2 with 3 degree of freedom is 7.815. Since 8.006 > 7.815, therefore we reject the null hypothesis and conclude that the education level depends on gender at a 5% level of significance."
   ]
  },
  {
   "cell_type": "code",
   "execution_count": null,
   "metadata": {},
   "outputs": [],
   "source": [
    "# Problem Statement 2:\n",
    "Using the following data, perform a oneway analysis of variance using α=.05. Write up the results in APA format.\n",
    "[Group1: 51, 45, 33, 45, 67]\n",
    "[Group2: 23, 43, 23, 43, 45]\n",
    "[Group3: 56, 76, 74, 87, 56]"
   ]
  },
  {
   "cell_type": "code",
   "execution_count": null,
   "metadata": {},
   "outputs": [],
   "source": [
    "Step 1: Calculate all the means\n",
    "Group1\tSq.Dev1 Group2 Sq.Dev2 Group3 Sq.Dev3\n",
    "\t51\t7.84\t23\t153.76\t56\t190.44\n",
    "\t45\t10.24\t43\t57.76\t76\t38.44\n",
    "\t33\t231.04\t23\t153.76\t74\t17.64\n",
    "\t45\t10.24\t43\t57.76\t87\t295.84\n",
    "\t67\t353.44\t45\t92.16\t56\t190.44\n",
    "Mean 48.2\t\t35.4\t\t69.8\t\n",
    "Sum\t\t612.8\t\t515.2\t\t732.8\n",
    "\n",
    "All groups\tSq. Dev\n",
    "\t51\t0.02\n",
    "\t45\t37.62\n",
    "\t33\t328.82\n",
    "\t45\t37.62\n",
    "\t67\t251.75\n",
    "\t23\t791.48\n",
    "\t43\t66.15\n",
    "\t23\t791.48\n",
    "\t43\t66.15\n",
    "\t45\t37.62\n",
    "\t56\t23.68\n",
    "\t76\t618.35\n",
    "\t74\t522.88\n",
    "\t87\t1286.42\n",
    "\t56\t23.68\n",
    "Mean 51.13\t\n",
    "Total sum of squares (TSS) 4883.73\n",
    "\n",
    "Step 2: Set up the Null and Alternate Hypothesis \n",
    "H0: μ1 = μ2 = μ3 \n",
    "Ha: μ1 ≠ μ2 ≠ μ3  \n",
    "\n",
    "The rejection criteria: If the critical value of F from tables (for α = 0.05)is less than the calculated value of F, we reject the null hypothesis\n",
    "\n",
    "Step 3: Calculate the Sum of squares, Degree of freedom and Mean square\n",
    "Total sum of squares (TSS)         = Sum of squares within groups(SSW) + Sum of squares between groups (SSB)\n",
    "Degree of freedom within group (DSSW)  = Number of observations - Number of groups\n",
    "Degree of freedom between groups (DSSB)= Number of groups - 1\n",
    "Mean square within group (MSW)         = SSW/DSSW\n",
    "Mean square between group (MSB)        = SSB/DSSB\n",
    "\n",
    "Sum of squares within group (SSW)     = 612.8 + 515.2 + 732.8 = 1860.8\n",
    "Degree of freedom within groups (DSSW)= 15-3 = 12\n",
    "Mean squares within groups (MSW)      = 1860.80/12 = 155.07\n",
    "\n",
    "Sum of squares between group (SSB)      = ((51.13-48.2)^2 + (51.12-35.4)^2 + (51.13-69.8)^2)*5 = 3022.93\n",
    "Degree of freedom between groups (DSSB)\t= 3 - 1 = 2\n",
    "Mean squares between groups (MSB)       = 3022.93/2 = 1511.47\n",
    "\n",
    "Sum of squares within group (SSW) = 1860.80\n",
    "Sum of squares between group (SSB)= 3022.93\n",
    "Total sum of squares (TSS)\t\t  =\t1860.80+3022.93 = 4883.73\n",
    "\n",
    "Step 4: Calculate the F Statistic and compare with Fcritical\n",
    "F = MSB/MSW = 1511.47/155.07 = 9.75\n",
    "\n",
    "From the table of F distribution, the critical value of F for 0.05 significance and degrees of freedom of(df1 = 12 and df2 = 2): Fcritical = 3.89\n",
    "\n",
    "Since the calculated value of F (9.75) is greater than the tabulated critical value (3.89), we reject the null hypothesis and conclude that at least two of the means are significantly different from each other\n",
    "\n",
    "Effect size:\n",
    "η2=3022.9/4883.7=0.62\n",
    "\n",
    "APA writeup:\n",
    "F(2, 12)=9.75, p <0.05, η2=0.62."
   ]
  },
  {
   "cell_type": "code",
   "execution_count": null,
   "metadata": {},
   "outputs": [],
   "source": [
    "# Problem Statement 3:\n",
    "Calculate F Test for given 10, 20, 30, 40, 50 and 5,10,15, 20, 25.\n",
    "For 10, 20, 30, 40, 50:"
   ]
  },
  {
   "cell_type": "code",
   "execution_count": 1,
   "metadata": {},
   "outputs": [],
   "source": [
    "import numpy as np\n",
    "x = [10,20,30,40,50]\n",
    "y = [5,10,15,20,25]\n",
    "variance_x = np.var(x)\n",
    "variance_y = np.var(y)"
   ]
  },
  {
   "cell_type": "code",
   "execution_count": 4,
   "metadata": {},
   "outputs": [
    {
     "name": "stdout",
     "output_type": "stream",
     "text": [
      "The F test value is 4.00\n"
     ]
    }
   ],
   "source": [
    "F = variance_x/variance_y #F Test is generally defined as ratio of the variances of the given two set of values\n",
    "print('The F test value is {:.2f}'.format(F))"
   ]
  },
  {
   "cell_type": "markdown",
   "metadata": {},
   "source": [
    "END OF ASSIGNMENT"
   ]
  }
 ],
 "metadata": {
  "kernelspec": {
   "display_name": "Python 3",
   "language": "python",
   "name": "python3"
  },
  "language_info": {
   "codemirror_mode": {
    "name": "ipython",
    "version": 3
   },
   "file_extension": ".py",
   "mimetype": "text/x-python",
   "name": "python",
   "nbconvert_exporter": "python",
   "pygments_lexer": "ipython3",
   "version": "3.6.5"
  }
 },
 "nbformat": 4,
 "nbformat_minor": 2
}
